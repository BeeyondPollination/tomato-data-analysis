{
 "cells": [
  {
   "cell_type": "code",
   "execution_count": 4,
   "metadata": {
    "collapsed": true
   },
   "outputs": [],
   "source": [
    "%matplotlib inline\n",
    "import pandas as pd\n",
    "import numpy as np\n",
    "import matplotlib.pyplot as plt\n",
    "import seaborn as sns\n",
    "import ipywidgets as widg\n",
    "import copy"
   ]
  },
  {
   "cell_type": "code",
   "execution_count": 5,
   "metadata": {
    "collapsed": false
   },
   "outputs": [
    {
     "data": {
      "image/png": "[encoded data removed]",
      "text/plain": [
       "<matplotlib.figure.Figure at 0x4f93380550>"
      ]
     },
     "metadata": {},
     "output_type": "display_data"
    }
   ],
   "source": [
    "Truss_Level = 101\n",
    "a=[0]*7\n",
    "\n",
    "for i in range(1,8):\n",
    "    Data_Set = i\n",
    "    df = pd.read_csv('C:\\\\Users\\\\Reily\\\\Desktop\\\\Beeyond Data\\\\data_set_'+str(Data_Set)+'.csv')\n",
    "    df = df.fillna(0)\n",
    "    df.columns = [c.replace(' ', '_') for c in df.columns]\n",
    "\n",
    "    #make a unrefrenced copy of our data frame\n",
    "    df1 = copy.deepcopy(df)\n",
    "\n",
    "    #reduce data by truss level\n",
    "    df2 = df1.loc[(df1.Truss == Truss_Level)]\n",
    "\n",
    "    #group data by device\n",
    "    dfGroupByDevice = df2.groupby(df2.Device).sum()\n",
    "\n",
    "    #normalize the setting flowers per device based on total flowers per device\n",
    "\n",
    "    dfGroupByDevice.Setting = dfGroupByDevice.Setting.div(dfGroupByDevice.Total_flowers)\n",
    "    dfGroupByDevice.Setting = 100*dfGroupByDevice.Setting\n",
    "\n",
    "    #making data frame of device and percent setting\n",
    "    dfGroupByDevice = dfGroupByDevice[['Setting']]\n",
    "    dfGroupByDevice\n",
    "    dfGroupByDevice.columns = ['% Setting Day ' + str(i)] \n",
    "    a[i-1]= dfGroupByDevice\n",
    "    \n",
    "bigFrame = pd.concat(a, axis=1)\n",
    "\n",
    "def plotData(day):\n",
    "    plt.xlabel('Treatment', fontsize = 14)\n",
    "    plt.ylabel('% Set', fontsize = 14)\n",
    "    plt.title('% Setting Day ' + str(int (day)),fontsize = 18)\n",
    "    plt.grid(False)\n",
    "    plt.ylim([0,100])\n",
    "    bigFrame['% Setting Day ' + str(int (day))].plot(kind='bar',)\n",
    "\n",
    "timeSlider = widg.FloatSlider(description='Time', min=1, max=7, step=1)\n",
    "\n",
    "widg.interact(plotData,\n",
    "            day=timeSlider)"
   ]
  },
  {
   "cell_type": "code",
   "execution_count": null,
   "metadata": {
    "collapsed": true
   },
   "outputs": [],
   "source": []
  }
 ],
 "metadata": {
  "kernelspec": {
   "display_name": "Python 3",
   "language": "python",
   "name": "python3"
  },
  "language_info": {
   "codemirror_mode": {
    "name": "ipython",
    "version": 3
   },
   "file_extension": ".py",
   "mimetype": "text/x-python",
   "name": "python",
   "nbconvert_exporter": "python",
   "pygments_lexer": "ipython3",
   "version": "3.5.1"
  }
 },
 "nbformat": 4,
 "nbformat_minor": 0
}
