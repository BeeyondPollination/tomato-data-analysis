{
 "cells": [
  {
   "cell_type": "code",
   "execution_count": 92,
   "metadata": {
    "collapsed": true
   },
   "outputs": [],
   "source": [
    "%matplotlib inline\n",
    "import pandas as pd\n",
    "import numpy as np\n",
    "import matplotlib.pyplot as plt\n",
    "import seaborn as sns\n",
    "import ipywidgets as widg\n",
    "import copy\n",
    "\n"
   ]
  },
  {
   "cell_type": "code",
   "execution_count": 94,
   "metadata": {
    "collapsed": false
   },
   "outputs": [
    {
     "data": {
      "text/plain": [
       "<function __main__.plotData>"
      ]
     },
     "execution_count": 94,
     "metadata": {},
     "output_type": "execute_result"
    },
    {
     "data": {
      "image/png": "[encoded data removed]",
      "text/plain": [
       "<matplotlib.figure.Figure at 0xe0d8d58438>"
      ]
     },
     "metadata": {},
     "output_type": "display_data"
    }
   ],
   "source": [
    "Truss_Level = 101\n",
    "a=[0]*7\n",
    "\n",
    "for i in range(1,8):\n",
    "    Data_Set = i\n",
    "    df = pd.read_csv('C:\\\\Users\\\\Reily\\\\Desktop\\\\Beeyond Data\\\\data_set_'+str(Data_Set)+'.csv')\n",
    "    df = df.fillna(0)\n",
    "    df.columns = [c.replace(' ', '_') for c in df.columns]\n",
    "\n",
    "    #make a unrefrenced copy of our data frame\n",
    "    df1 = copy.deepcopy(df)\n",
    "\n",
    "    #reduce data by truss level\n",
    "    df2 = df1.loc[(df1.Truss == Truss_Level)]\n",
    "\n",
    "    #group data by device\n",
    "    dfGroupByDevice = df2.groupby(df2.Device).sum()\n",
    "\n",
    "    #normalize the setting flowers per device based on total flowers per device\n",
    "\n",
    "    dfGroupByDevice.Setting = dfGroupByDevice.Setting.div(dfGroupByDevice.Total_flowers)\n",
    "    dfGroupByDevice.Setting = 100*dfGroupByDevice.Setting\n",
    "\n",
    "    #making data frame of device and percent setting\n",
    "    dfGroupByDevice = dfGroupByDevice[['Setting']]\n",
    "    dfGroupByDevice\n",
    "    dfGroupByDevice.columns = ['% Setting Day ' + str(i)] \n",
    "    a[i-1]= dfGroupByDevice\n",
    "    \n",
    "bigFrame = pd.concat(a, axis=1)\n",
    "\n",
    "def plotData(day):\n",
    "    plt.xlabel('Treatment', fontsize = 14)\n",
    "    plt.ylabel('% Set', fontsize = 14)\n",
    "    plt.title('% Setting Day ' + str(int (day)),fontsize = 18)\n",
    "    plt.grid(False)\n",
    "    plt.ylim([0,100])\n",
    "    bigFrame['% Setting Day ' + str(int (day))].plot(kind='bar',)\n",
    "\n",
    "timeSlider = widg.FloatSlider(description='Time', min=1, max=7, step=1)\n",
    "\n",
    "widg.interact(plotData,\n",
    "            day=timeSlider)"
   ]
  },
  {
   "cell_type": "code",
   "execution_count": null,
   "metadata": {
    "collapsed": true
   },
   "outputs": [],
   "source": [
    "#make a unrefrenced copy of our data frame\n",
    "df1 = copy.deepcopy(df)"
   ]
  },
  {
   "cell_type": "code",
   "execution_count": 41,
   "metadata": {
    "collapsed": false
   },
   "outputs": [],
   "source": [
    "#reduce data by truss level\n",
    "df2 = df1.loc[(df1.Truss == Truss_Level)]\n",
    "#df2"
   ]
  },
  {
   "cell_type": "code",
   "execution_count": 42,
   "metadata": {
    "collapsed": false
   },
   "outputs": [
    {
     "data": {
      "text/html": [
       "<div>\n",
       "<table border=\"1\" class=\"dataframe\">\n",
       "  <thead>\n",
       "    <tr style=\"text-align: right;\">\n",
       "      <th></th>\n",
       "      <th>Plant</th>\n",
       "      <th>Truss</th>\n",
       "      <th>Total_flowers</th>\n",
       "      <th>Budding</th>\n",
       "      <th>Transition_B_to_O</th>\n",
       "      <th>Open</th>\n",
       "      <th>Closed</th>\n",
       "      <th>Setting</th>\n",
       "      <th>Difference</th>\n",
       "    </tr>\n",
       "    <tr>\n",
       "      <th>Device</th>\n",
       "      <th></th>\n",
       "      <th></th>\n",
       "      <th></th>\n",
       "      <th></th>\n",
       "      <th></th>\n",
       "      <th></th>\n",
       "      <th></th>\n",
       "      <th></th>\n",
       "      <th></th>\n",
       "    </tr>\n",
       "  </thead>\n",
       "  <tbody>\n",
       "    <tr>\n",
       "      <th>A</th>\n",
       "      <td>105</td>\n",
       "      <td>1414</td>\n",
       "      <td>197</td>\n",
       "      <td>105</td>\n",
       "      <td>26</td>\n",
       "      <td>43</td>\n",
       "      <td>15</td>\n",
       "      <td>8</td>\n",
       "      <td>0</td>\n",
       "    </tr>\n",
       "    <tr>\n",
       "      <th>B</th>\n",
       "      <td>105</td>\n",
       "      <td>1414</td>\n",
       "      <td>187</td>\n",
       "      <td>89</td>\n",
       "      <td>32</td>\n",
       "      <td>54</td>\n",
       "      <td>5</td>\n",
       "      <td>7</td>\n",
       "      <td>0</td>\n",
       "    </tr>\n",
       "    <tr>\n",
       "      <th>C</th>\n",
       "      <td>105</td>\n",
       "      <td>1414</td>\n",
       "      <td>215</td>\n",
       "      <td>115</td>\n",
       "      <td>37</td>\n",
       "      <td>36</td>\n",
       "      <td>21</td>\n",
       "      <td>6</td>\n",
       "      <td>0</td>\n",
       "    </tr>\n",
       "    <tr>\n",
       "      <th>E</th>\n",
       "      <td>45</td>\n",
       "      <td>909</td>\n",
       "      <td>114</td>\n",
       "      <td>79</td>\n",
       "      <td>19</td>\n",
       "      <td>15</td>\n",
       "      <td>1</td>\n",
       "      <td>0</td>\n",
       "      <td>0</td>\n",
       "    </tr>\n",
       "    <tr>\n",
       "      <th>F</th>\n",
       "      <td>58</td>\n",
       "      <td>1010</td>\n",
       "      <td>185</td>\n",
       "      <td>104</td>\n",
       "      <td>38</td>\n",
       "      <td>22</td>\n",
       "      <td>15</td>\n",
       "      <td>6</td>\n",
       "      <td>0</td>\n",
       "    </tr>\n",
       "  </tbody>\n",
       "</table>\n",
       "</div>"
      ],
      "text/plain": [
       "        Plant  Truss  Total_flowers  Budding  Transition_B_to_O  Open  Closed  \\\n",
       "Device                                                                          \n",
       "A         105   1414            197      105                 26    43      15   \n",
       "B         105   1414            187       89                 32    54       5   \n",
       "C         105   1414            215      115                 37    36      21   \n",
       "E          45    909            114       79                 19    15       1   \n",
       "F          58   1010            185      104                 38    22      15   \n",
       "\n",
       "        Setting  Difference  \n",
       "Device                       \n",
       "A             8           0  \n",
       "B             7           0  \n",
       "C             6           0  \n",
       "E             0           0  \n",
       "F             6           0  "
      ]
     },
     "execution_count": 42,
     "metadata": {},
     "output_type": "execute_result"
    }
   ],
   "source": [
    "#group data by device\n",
    "dfGroupByDevice = df2.groupby(df2.Device).sum()\n",
    "dfGroupByDevice"
   ]
  },
  {
   "cell_type": "code",
   "execution_count": 43,
   "metadata": {
    "collapsed": false
   },
   "outputs": [
    {
     "data": {
      "text/html": [
       "<div>\n",
       "<table border=\"1\" class=\"dataframe\">\n",
       "  <thead>\n",
       "    <tr style=\"text-align: right;\">\n",
       "      <th></th>\n",
       "      <th>Setting</th>\n",
       "    </tr>\n",
       "    <tr>\n",
       "      <th>Device</th>\n",
       "      <th></th>\n",
       "    </tr>\n",
       "  </thead>\n",
       "  <tbody>\n",
       "    <tr>\n",
       "      <th>A</th>\n",
       "      <td>4.060914</td>\n",
       "    </tr>\n",
       "    <tr>\n",
       "      <th>B</th>\n",
       "      <td>3.743316</td>\n",
       "    </tr>\n",
       "    <tr>\n",
       "      <th>C</th>\n",
       "      <td>2.790698</td>\n",
       "    </tr>\n",
       "    <tr>\n",
       "      <th>E</th>\n",
       "      <td>0.000000</td>\n",
       "    </tr>\n",
       "    <tr>\n",
       "      <th>F</th>\n",
       "      <td>3.243243</td>\n",
       "    </tr>\n",
       "  </tbody>\n",
       "</table>\n",
       "</div>"
      ],
      "text/plain": [
       "         Setting\n",
       "Device          \n",
       "A       4.060914\n",
       "B       3.743316\n",
       "C       2.790698\n",
       "E       0.000000\n",
       "F       3.243243"
      ]
     },
     "execution_count": 43,
     "metadata": {},
     "output_type": "execute_result"
    }
   ],
   "source": [
    "#normalize the setting flowers per device based on total flowers per device\n",
    "\n",
    "dfGroupByDevice.Setting = dfGroupByDevice.Setting.div(dfGroupByDevice.Total_flowers)\n",
    "dfGroupByDevice.Setting = 100*dfGroupByDevice.Setting\n",
    "\n",
    "#making data frame of device and percent setting\n",
    "dfGroupByDevice = dfGroupByDevice[['Setting']]\n",
    "dfGroupByDevice"
   ]
  },
  {
   "cell_type": "code",
   "execution_count": null,
   "metadata": {
    "collapsed": true
   },
   "outputs": [],
   "source": [
    "#notes: \n",
    "#need to figure out how to sum the devices then normalize that data\n",
    "#display more than one graph then iterate them in time"
   ]
  }
 ],
 "metadata": {
  "kernelspec": {
   "display_name": "Python 3",
   "language": "python",
   "name": "python3"
  },
  "language_info": {
   "codemirror_mode": {
    "name": "ipython",
    "version": 3
   },
   "file_extension": ".py",
   "mimetype": "text/x-python",
   "name": "python",
   "nbconvert_exporter": "python",
   "pygments_lexer": "ipython3",
   "version": "3.5.1"
  }
 },
 "nbformat": 4,
 "nbformat_minor": 0
}
