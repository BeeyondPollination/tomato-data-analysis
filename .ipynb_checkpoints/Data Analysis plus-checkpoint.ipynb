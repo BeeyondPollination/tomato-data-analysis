{
 "cells": [
  {
   "cell_type": "code",
   "execution_count": 1,
   "metadata": {
    "collapsed": true
   },
   "outputs": [],
   "source": [
    "#TODO:\n",
    "#incorporate the lost sets as a new peice of data\n",
    "#add filter for type of tomato"
   ]
  },
  {
   "cell_type": "code",
   "execution_count": 6,
   "metadata": {
    "collapsed": true
   },
   "outputs": [],
   "source": [
    "#This block only looks at the precent of set flowers\n",
    "\n",
    "%matplotlib inline\n",
    "import pandas as pd\n",
    "import numpy as np\n",
    "import matplotlib.pyplot as plt\n",
    "import seaborn as sns\n",
    "import ipywidgets as widg\n",
    "import copy"
   ]
  },
  {
   "cell_type": "code",
   "execution_count": 31,
   "metadata": {
    "collapsed": false
   },
   "outputs": [
    {
     "data": {
      "text/plain": [
       "Device\n",
       "A    48.888889\n",
       "B    51.794872\n",
       "C    53.361345\n",
       "E    27.868852\n",
       "F    57.142857\n",
       "dtype: float64"
      ]
     },
     "execution_count": 31,
     "metadata": {},
     "output_type": "execute_result"
    }
   ],
   "source": [
    "Number_of_Data_Sets = 9\n",
    "Truss_Level = 101\n",
    "a=[0]*Number_of_Data_Sets\n",
    "    \n",
    "Data_Set = 9\n",
    "df = pd.read_csv('C:\\\\Users\\\\Reily\\\\Desktop\\\\Beeyond Data\\\\data_set_'+str(Data_Set)+'.csv')\n",
    "df = df.fillna(0)\n",
    "df.columns = [c.replace(' ', '_') for c in df.columns]\n",
    "\n",
    "#make a unrefrenced copy of our data frame\n",
    "df1 = copy.deepcopy(df)\n",
    "\n",
    "#reduce data by truss level\n",
    "df2 = df1.loc[(df1.Truss == Truss_Level)]\n",
    "\n",
    "#group data by device\n",
    "dfGroupByDevice = df2.groupby(df2.Device).sum()\n",
    "\n",
    "#normalize the setting flowers per device based on total flowers per device\n",
    "\n",
    "dfGroupByDevice.Setting = dfGroupByDevice.Setting.div(dfGroupByDevice.Total_flowers)\n",
    "dfGroupByDevice.Setting = 100*dfGroupByDevice.Setting\n",
    "\n",
    "dfGroupByDevice.Broken_Sets = dfGroupByDevice.Broken_Sets.div(dfGroupByDevice.Total_flowers)\n",
    "dfGroupByDevice.Broken_Sets = 100*dfGroupByDevice.Broken_Sets\n",
    "\n",
    "#making data frame of device and percent setting\n",
    "dfGroupByDevice = dfGroupByDevice[['Setting','Broken_Sets']]\n",
    "dfGroupByDevice = dfGroupByDevice.Setting+dfGroupByDevice.Broken_Sets\n",
    "dfGroupByDevice.columns = ['% Setting + % Broken_Sets Day ' + str(Data_Set)]\n",
    "dfGroupByDevice"
   ]
  },
  {
   "cell_type": "code",
   "execution_count": 43,
   "metadata": {
    "collapsed": false
   },
   "outputs": [
    {
     "data": {
      "text/html": [
       "<div>\n",
       "<table border=\"1\" class=\"dataframe\">\n",
       "  <thead>\n",
       "    <tr style=\"text-align: right;\">\n",
       "      <th></th>\n",
       "      <th>% Setting + % Broken_Sets Day 1</th>\n",
       "      <th>% Setting + % Broken_Sets Day 2</th>\n",
       "      <th>% Setting + % Broken_Sets Day 3</th>\n",
       "      <th>% Setting + % Broken_Sets Day 4</th>\n",
       "      <th>% Setting + % Broken_Sets Day 5</th>\n",
       "      <th>% Setting + % Broken_Sets Day 6</th>\n",
       "      <th>% Setting + % Broken_Sets Day 7</th>\n",
       "      <th>% Setting + % Broken_Sets Day 8</th>\n",
       "      <th>% Setting + % Broken_Sets Day 9</th>\n",
       "    </tr>\n",
       "    <tr>\n",
       "      <th>Device</th>\n",
       "      <th></th>\n",
       "      <th></th>\n",
       "      <th></th>\n",
       "      <th></th>\n",
       "      <th></th>\n",
       "      <th></th>\n",
       "      <th></th>\n",
       "      <th></th>\n",
       "      <th></th>\n",
       "    </tr>\n",
       "  </thead>\n",
       "  <tbody>\n",
       "    <tr>\n",
       "      <th>A</th>\n",
       "      <td>0</td>\n",
       "      <td>0</td>\n",
       "      <td>0</td>\n",
       "      <td>4.060914</td>\n",
       "      <td>17.766497</td>\n",
       "      <td>20.370370</td>\n",
       "      <td>31.400966</td>\n",
       "      <td>49.090909</td>\n",
       "      <td>48.888889</td>\n",
       "    </tr>\n",
       "    <tr>\n",
       "      <th>B</th>\n",
       "      <td>0</td>\n",
       "      <td>0</td>\n",
       "      <td>0</td>\n",
       "      <td>3.743316</td>\n",
       "      <td>16.384181</td>\n",
       "      <td>23.529412</td>\n",
       "      <td>33.516484</td>\n",
       "      <td>43.137255</td>\n",
       "      <td>51.794872</td>\n",
       "    </tr>\n",
       "    <tr>\n",
       "      <th>C</th>\n",
       "      <td>0</td>\n",
       "      <td>0</td>\n",
       "      <td>0</td>\n",
       "      <td>2.790698</td>\n",
       "      <td>20.642202</td>\n",
       "      <td>23.684211</td>\n",
       "      <td>37.719298</td>\n",
       "      <td>48.936170</td>\n",
       "      <td>53.361345</td>\n",
       "    </tr>\n",
       "    <tr>\n",
       "      <th>E</th>\n",
       "      <td>0</td>\n",
       "      <td>0</td>\n",
       "      <td>0</td>\n",
       "      <td>0.000000</td>\n",
       "      <td>5.691057</td>\n",
       "      <td>7.438017</td>\n",
       "      <td>10.655738</td>\n",
       "      <td>25.396825</td>\n",
       "      <td>27.868852</td>\n",
       "    </tr>\n",
       "    <tr>\n",
       "      <th>F</th>\n",
       "      <td>0</td>\n",
       "      <td>0</td>\n",
       "      <td>0</td>\n",
       "      <td>3.243243</td>\n",
       "      <td>18.461538</td>\n",
       "      <td>26.470588</td>\n",
       "      <td>31.914894</td>\n",
       "      <td>48.314607</td>\n",
       "      <td>57.142857</td>\n",
       "    </tr>\n",
       "  </tbody>\n",
       "</table>\n",
       "</div>"
      ],
      "text/plain": [
       "        % Setting + % Broken_Sets Day 1  % Setting + % Broken_Sets Day 2  \\\n",
       "Device                                                                     \n",
       "A                                     0                                0   \n",
       "B                                     0                                0   \n",
       "C                                     0                                0   \n",
       "E                                     0                                0   \n",
       "F                                     0                                0   \n",
       "\n",
       "        % Setting + % Broken_Sets Day 3  % Setting + % Broken_Sets Day 4  \\\n",
       "Device                                                                     \n",
       "A                                     0                         4.060914   \n",
       "B                                     0                         3.743316   \n",
       "C                                     0                         2.790698   \n",
       "E                                     0                         0.000000   \n",
       "F                                     0                         3.243243   \n",
       "\n",
       "        % Setting + % Broken_Sets Day 5  % Setting + % Broken_Sets Day 6  \\\n",
       "Device                                                                     \n",
       "A                             17.766497                        20.370370   \n",
       "B                             16.384181                        23.529412   \n",
       "C                             20.642202                        23.684211   \n",
       "E                              5.691057                         7.438017   \n",
       "F                             18.461538                        26.470588   \n",
       "\n",
       "        % Setting + % Broken_Sets Day 7  % Setting + % Broken_Sets Day 8  \\\n",
       "Device                                                                     \n",
       "A                             31.400966                        49.090909   \n",
       "B                             33.516484                        43.137255   \n",
       "C                             37.719298                        48.936170   \n",
       "E                             10.655738                        25.396825   \n",
       "F                             31.914894                        48.314607   \n",
       "\n",
       "        % Setting + % Broken_Sets Day 9  \n",
       "Device                                   \n",
       "A                             48.888889  \n",
       "B                             51.794872  \n",
       "C                             53.361345  \n",
       "E                             27.868852  \n",
       "F                             57.142857  "
      ]
     },
     "execution_count": 43,
     "metadata": {},
     "output_type": "execute_result"
    }
   ],
   "source": [
    "Number_of_Data_Sets = 9\n",
    "Truss_Level = 101\n",
    "a=[0]*Number_of_Data_Sets\n",
    "a1 =['']*Number_of_Data_Sets\n",
    "for i in range(1,Number_of_Data_Sets+1):\n",
    "    Data_Set = i\n",
    "    df = pd.read_csv('C:\\\\Users\\\\Reily\\\\Desktop\\\\Beeyond Data\\\\data_set_'+str(Data_Set)+'.csv')\n",
    "    df = df.fillna(0)\n",
    "    df.columns = [c.replace(' ', '_') for c in df.columns]\n",
    "\n",
    "    #make a unrefrenced copy of our data frame\n",
    "    df1 = copy.deepcopy(df)\n",
    "\n",
    "    #reduce data by truss level\n",
    "    df2 = df1.loc[(df1.Truss == Truss_Level)]\n",
    "\n",
    "    #group data by device\n",
    "    dfGroupByDevice = df2.groupby(df2.Device).sum()\n",
    "\n",
    "    #normalize the setting flowers per device based on total flowers per device\n",
    "\n",
    "    dfGroupByDevice.Setting = dfGroupByDevice.Setting.div(dfGroupByDevice.Total_flowers)\n",
    "    dfGroupByDevice.Setting = 100*dfGroupByDevice.Setting\n",
    "    dfGroupByDevice.Broken_Sets = dfGroupByDevice.Broken_Sets.div(dfGroupByDevice.Total_flowers)\n",
    "    dfGroupByDevice.Broken_Sets = 100*dfGroupByDevice.Broken_Sets\n",
    "\n",
    "    #making data frame of device and percent setting\n",
    "    dfGroupByDevice = dfGroupByDevice[['Setting','Broken_Sets']]\n",
    "    dfGroupByDevice = dfGroupByDevice.sum(axis=1)\n",
    "    #dfGroupByDevice.columns = ['% Setting + % Broken_Sets Day ' + str(Data_Set)]\n",
    "    a[i-1]= dfGroupByDevice\n",
    "    \n",
    "bigFrame = pd.concat(a, axis=1)\n",
    "for i in range(1,Number_of_Data_Sets+1):\n",
    "    a1[i-1] = '% Setting + % Broken_Sets Day ' + str(i)\n",
    "bigFrame.columns = a1\n",
    "bigFrame\n"
   ]
  },
  {
   "cell_type": "code",
   "execution_count": null,
   "metadata": {
    "collapsed": true
   },
   "outputs": [],
   "source": []
  },
  {
   "cell_type": "code",
   "execution_count": 23,
   "metadata": {
    "collapsed": false
   },
   "outputs": [
    {
     "ename": "AttributeError",
     "evalue": "'str' object has no attribute 'plot'",
     "output_type": "error",
     "traceback": [
      "\u001b[1;31m---------------------------------------------------------------------------\u001b[0m",
      "\u001b[1;31mAttributeError\u001b[0m                            Traceback (most recent call last)",
      "\u001b[1;32m<ipython-input-23-41db5f420ce0>\u001b[0m in \u001b[0;36mplotData\u001b[1;34m(day)\u001b[0m\n\u001b[0;32m      5\u001b[0m     \u001b[0mplt\u001b[0m\u001b[1;33m.\u001b[0m\u001b[0mgrid\u001b[0m\u001b[1;33m(\u001b[0m\u001b[1;32mFalse\u001b[0m\u001b[1;33m)\u001b[0m\u001b[1;33m\u001b[0m\u001b[0m\n\u001b[0;32m      6\u001b[0m     \u001b[0mplt\u001b[0m\u001b[1;33m.\u001b[0m\u001b[0mylim\u001b[0m\u001b[1;33m(\u001b[0m\u001b[1;33m[\u001b[0m\u001b[1;36m0\u001b[0m\u001b[1;33m,\u001b[0m\u001b[1;36m100\u001b[0m\u001b[1;33m]\u001b[0m\u001b[1;33m)\u001b[0m\u001b[1;33m\u001b[0m\u001b[0m\n\u001b[1;32m----> 7\u001b[1;33m     \u001b[0mbigFrame\u001b[0m\u001b[1;33m.\u001b[0m\u001b[0mcolumns\u001b[0m\u001b[1;33m[\u001b[0m\u001b[0mint\u001b[0m\u001b[1;33m(\u001b[0m\u001b[0mday\u001b[0m\u001b[1;33m)\u001b[0m\u001b[1;33m]\u001b[0m\u001b[1;33m.\u001b[0m\u001b[0mplot\u001b[0m\u001b[1;33m(\u001b[0m\u001b[0mkind\u001b[0m\u001b[1;33m=\u001b[0m\u001b[1;34m'bar'\u001b[0m\u001b[1;33m,\u001b[0m\u001b[0mstacked\u001b[0m \u001b[1;33m=\u001b[0m \u001b[1;32mTrue\u001b[0m\u001b[1;33m)\u001b[0m\u001b[1;33m\u001b[0m\u001b[0m\n\u001b[0m\u001b[0;32m      8\u001b[0m \u001b[1;33m\u001b[0m\u001b[0m\n\u001b[0;32m      9\u001b[0m \u001b[0mtimeSlider\u001b[0m \u001b[1;33m=\u001b[0m \u001b[0mwidg\u001b[0m\u001b[1;33m.\u001b[0m\u001b[0mFloatSlider\u001b[0m\u001b[1;33m(\u001b[0m\u001b[0mdescription\u001b[0m\u001b[1;33m=\u001b[0m\u001b[1;34m'Time'\u001b[0m\u001b[1;33m,\u001b[0m \u001b[0mmin\u001b[0m\u001b[1;33m=\u001b[0m\u001b[1;36m1\u001b[0m\u001b[1;33m,\u001b[0m \u001b[0mmax\u001b[0m\u001b[1;33m=\u001b[0m\u001b[0mNumber_of_Data_Sets\u001b[0m\u001b[1;33m,\u001b[0m \u001b[0mstep\u001b[0m\u001b[1;33m=\u001b[0m\u001b[1;36m1\u001b[0m\u001b[1;33m)\u001b[0m\u001b[1;33m\u001b[0m\u001b[0m\n",
      "\u001b[1;31mAttributeError\u001b[0m: 'str' object has no attribute 'plot'"
     ]
    },
    {
     "data": {
      "text/plain": [
       "<function __main__.plotData>"
      ]
     },
     "execution_count": 23,
     "metadata": {},
     "output_type": "execute_result"
    },
    {
     "data": {
      "image/png": "[encoded data removed]",
      "text/plain": [
       "<matplotlib.figure.Figure at 0x7067f607b8>"
      ]
     },
     "metadata": {},
     "output_type": "display_data"
    }
   ],
   "source": [
    "def plotData(day):\n",
    "    plt.xlabel('Treatment', fontsize = 14)\n",
    "    plt.ylabel('% Set', fontsize = 14)\n",
    "    plt.title('% Setting Day ' + str(int (day)),fontsize = 18)\n",
    "    plt.grid(False)\n",
    "    plt.ylim([0,100])\n",
    "    bigFrame['% Setting + % Broken_Sets Day ' + str(int (day))].plot(kind='bar',)\n",
    "\n",
    "timeSlider = widg.FloatSlider(description='Time', min=1, max=Number_of_Data_Sets, step=1)\n",
    "\n",
    "widg.interact(plotData,\n",
    "            day=timeSlider)"
   ]
  },
  {
   "cell_type": "code",
   "execution_count": null,
   "metadata": {
    "collapsed": true
   },
   "outputs": [],
   "source": []
  }
 ],
 "metadata": {
  "kernelspec": {
   "display_name": "Python 3",
   "language": "python",
   "name": "python3"
  },
  "language_info": {
   "codemirror_mode": {
    "name": "ipython",
    "version": 3
   },
   "file_extension": ".py",
   "mimetype": "text/x-python",
   "name": "python",
   "nbconvert_exporter": "python",
   "pygments_lexer": "ipython3",
   "version": "3.5.1"
  }
 },
 "nbformat": 4,
 "nbformat_minor": 0
}
