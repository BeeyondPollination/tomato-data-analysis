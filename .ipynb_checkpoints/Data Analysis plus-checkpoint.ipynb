{
 "cells": [
  {
   "cell_type": "code",
   "execution_count": 3,
   "metadata": {
    "collapsed": true
   },
   "outputs": [],
   "source": [
    "#TODO:\n",
    "#incorporate the lost sets as a new peice of data\n",
    "#add filter for type of tomato"
   ]
  },
  {
   "cell_type": "code",
   "execution_count": 4,
   "metadata": {
    "collapsed": true
   },
   "outputs": [],
   "source": [
    "#This block only looks at the precent of set flowers\n",
    "\n",
    "%matplotlib inline\n",
    "import pandas as pd\n",
    "import numpy as np\n",
    "import matplotlib.pyplot as plt\n",
    "import seaborn as sns\n",
    "import ipywidgets as widg\n",
    "import copy"
   ]
  },
  {
   "cell_type": "code",
   "execution_count": 5,
   "metadata": {
    "collapsed": false
   },
   "outputs": [
    {
     "data": {
      "text/plain": [
       "Device\n",
       "A    48.888889\n",
       "B    51.794872\n",
       "C    53.361345\n",
       "E    27.868852\n",
       "F    57.142857\n",
       "dtype: float64"
      ]
     },
     "execution_count": 5,
     "metadata": {},
     "output_type": "execute_result"
    }
   ],
   "source": [
    "Number_of_Data_Sets = 9\n",
    "Truss_Level = 101\n",
    "a=[0]*Number_of_Data_Sets\n",
    "    \n",
    "Data_Set = 9\n",
    "df = pd.read_csv('C:\\\\Users\\\\Reily\\\\Desktop\\\\Beeyond Data\\\\data_set_'+str(Data_Set)+'.csv')\n",
    "df = df.fillna(0)\n",
    "df.columns = [c.replace(' ', '_') for c in df.columns]\n",
    "\n",
    "#make a unrefrenced copy of our data frame\n",
    "df1 = copy.deepcopy(df)\n",
    "\n",
    "#reduce data by truss level\n",
    "df2 = df1.loc[(df1.Truss == Truss_Level)]\n",
    "\n",
    "#group data by device\n",
    "dfGroupByDevice = df2.groupby(df2.Device).sum()\n",
    "\n",
    "#normalize the setting flowers per device based on total flowers per device\n",
    "\n",
    "dfGroupByDevice.Setting = dfGroupByDevice.Setting.div(dfGroupByDevice.Total_flowers)\n",
    "dfGroupByDevice.Setting = 100*dfGroupByDevice.Setting\n",
    "\n",
    "dfGroupByDevice.Broken_Sets = dfGroupByDevice.Broken_Sets.div(dfGroupByDevice.Total_flowers)\n",
    "dfGroupByDevice.Broken_Sets = 100*dfGroupByDevice.Broken_Sets\n",
    "\n",
    "#making data frame of device and percent setting\n",
    "dfGroupByDevice = dfGroupByDevice[['Setting','Broken_Sets']]\n",
    "dfGroupByDevice = dfGroupByDevice.Setting+dfGroupByDevice.Broken_Sets\n",
    "dfGroupByDevice.columns = ['% Setting + % Broken_Sets Day ' + str(Data_Set)]\n",
    "dfGroupByDevice"
   ]
  },
  {
   "cell_type": "code",
   "execution_count": 6,
   "metadata": {
    "collapsed": false
   },
   "outputs": [
    {
     "ename": "ValueError",
     "evalue": "Length mismatch: Expected axis has 8 elements, new values have 9 elements",
     "output_type": "error",
     "traceback": [
      "\u001b[1;31m---------------------------------------------------------------------------\u001b[0m",
      "\u001b[1;31mValueError\u001b[0m                                Traceback (most recent call last)",
      "\u001b[1;32m<ipython-input-6-c5fddefa4b48>\u001b[0m in \u001b[0;36m<module>\u001b[1;34m()\u001b[0m\n\u001b[0;32m     34\u001b[0m \u001b[1;32mfor\u001b[0m \u001b[0mi\u001b[0m \u001b[1;32min\u001b[0m \u001b[0mrange\u001b[0m\u001b[1;33m(\u001b[0m\u001b[1;36m1\u001b[0m\u001b[1;33m,\u001b[0m\u001b[0mNumber_of_Data_Sets\u001b[0m\u001b[1;33m+\u001b[0m\u001b[1;36m1\u001b[0m\u001b[1;33m)\u001b[0m\u001b[1;33m:\u001b[0m\u001b[1;33m\u001b[0m\u001b[0m\n\u001b[0;32m     35\u001b[0m     \u001b[0ma1\u001b[0m\u001b[1;33m[\u001b[0m\u001b[0mi\u001b[0m\u001b[1;33m-\u001b[0m\u001b[1;36m1\u001b[0m\u001b[1;33m]\u001b[0m \u001b[1;33m=\u001b[0m \u001b[1;34m'% Setting + % Broken_Sets Day '\u001b[0m \u001b[1;33m+\u001b[0m \u001b[0mstr\u001b[0m\u001b[1;33m(\u001b[0m\u001b[0mi\u001b[0m\u001b[1;33m)\u001b[0m\u001b[1;33m\u001b[0m\u001b[0m\n\u001b[1;32m---> 36\u001b[1;33m \u001b[0mbigFrame\u001b[0m\u001b[1;33m.\u001b[0m\u001b[0mcolumns\u001b[0m \u001b[1;33m=\u001b[0m \u001b[0ma1\u001b[0m\u001b[1;33m\u001b[0m\u001b[0m\n\u001b[0m\u001b[0;32m     37\u001b[0m \u001b[0mbigFrame\u001b[0m\u001b[1;33m\u001b[0m\u001b[0m\n",
      "\u001b[1;32mC:\\Users\\Reily\\Anaconda3\\lib\\site-packages\\pandas\\core\\generic.py\u001b[0m in \u001b[0;36m__setattr__\u001b[1;34m(self, name, value)\u001b[0m\n\u001b[0;32m   2369\u001b[0m         \u001b[1;32mtry\u001b[0m\u001b[1;33m:\u001b[0m\u001b[1;33m\u001b[0m\u001b[0m\n\u001b[0;32m   2370\u001b[0m             \u001b[0mobject\u001b[0m\u001b[1;33m.\u001b[0m\u001b[0m__getattribute__\u001b[0m\u001b[1;33m(\u001b[0m\u001b[0mself\u001b[0m\u001b[1;33m,\u001b[0m \u001b[0mname\u001b[0m\u001b[1;33m)\u001b[0m\u001b[1;33m\u001b[0m\u001b[0m\n\u001b[1;32m-> 2371\u001b[1;33m             \u001b[1;32mreturn\u001b[0m \u001b[0mobject\u001b[0m\u001b[1;33m.\u001b[0m\u001b[0m__setattr__\u001b[0m\u001b[1;33m(\u001b[0m\u001b[0mself\u001b[0m\u001b[1;33m,\u001b[0m \u001b[0mname\u001b[0m\u001b[1;33m,\u001b[0m \u001b[0mvalue\u001b[0m\u001b[1;33m)\u001b[0m\u001b[1;33m\u001b[0m\u001b[0m\n\u001b[0m\u001b[0;32m   2372\u001b[0m         \u001b[1;32mexcept\u001b[0m \u001b[0mAttributeError\u001b[0m\u001b[1;33m:\u001b[0m\u001b[1;33m\u001b[0m\u001b[0m\n\u001b[0;32m   2373\u001b[0m             \u001b[1;32mpass\u001b[0m\u001b[1;33m\u001b[0m\u001b[0m\n",
      "\u001b[1;32mpandas\\src\\properties.pyx\u001b[0m in \u001b[0;36mpandas.lib.AxisProperty.__set__ (pandas\\lib.c:45002)\u001b[1;34m()\u001b[0m\n",
      "\u001b[1;32mC:\\Users\\Reily\\Anaconda3\\lib\\site-packages\\pandas\\core\\generic.py\u001b[0m in \u001b[0;36m_set_axis\u001b[1;34m(self, axis, labels)\u001b[0m\n\u001b[0;32m    423\u001b[0m \u001b[1;33m\u001b[0m\u001b[0m\n\u001b[0;32m    424\u001b[0m     \u001b[1;32mdef\u001b[0m \u001b[0m_set_axis\u001b[0m\u001b[1;33m(\u001b[0m\u001b[0mself\u001b[0m\u001b[1;33m,\u001b[0m \u001b[0maxis\u001b[0m\u001b[1;33m,\u001b[0m \u001b[0mlabels\u001b[0m\u001b[1;33m)\u001b[0m\u001b[1;33m:\u001b[0m\u001b[1;33m\u001b[0m\u001b[0m\n\u001b[1;32m--> 425\u001b[1;33m         \u001b[0mself\u001b[0m\u001b[1;33m.\u001b[0m\u001b[0m_data\u001b[0m\u001b[1;33m.\u001b[0m\u001b[0mset_axis\u001b[0m\u001b[1;33m(\u001b[0m\u001b[0maxis\u001b[0m\u001b[1;33m,\u001b[0m \u001b[0mlabels\u001b[0m\u001b[1;33m)\u001b[0m\u001b[1;33m\u001b[0m\u001b[0m\n\u001b[0m\u001b[0;32m    426\u001b[0m         \u001b[0mself\u001b[0m\u001b[1;33m.\u001b[0m\u001b[0m_clear_item_cache\u001b[0m\u001b[1;33m(\u001b[0m\u001b[1;33m)\u001b[0m\u001b[1;33m\u001b[0m\u001b[0m\n\u001b[0;32m    427\u001b[0m \u001b[1;33m\u001b[0m\u001b[0m\n",
      "\u001b[1;32mC:\\Users\\Reily\\Anaconda3\\lib\\site-packages\\pandas\\core\\internals.py\u001b[0m in \u001b[0;36mset_axis\u001b[1;34m(self, axis, new_labels)\u001b[0m\n\u001b[0;32m   2570\u001b[0m         \u001b[1;32mif\u001b[0m \u001b[0mnew_len\u001b[0m \u001b[1;33m!=\u001b[0m \u001b[0mold_len\u001b[0m\u001b[1;33m:\u001b[0m\u001b[1;33m\u001b[0m\u001b[0m\n\u001b[0;32m   2571\u001b[0m             raise ValueError('Length mismatch: Expected axis has %d elements, '\n\u001b[1;32m-> 2572\u001b[1;33m                              'new values have %d elements' % (old_len, new_len))\n\u001b[0m\u001b[0;32m   2573\u001b[0m \u001b[1;33m\u001b[0m\u001b[0m\n\u001b[0;32m   2574\u001b[0m         \u001b[0mself\u001b[0m\u001b[1;33m.\u001b[0m\u001b[0maxes\u001b[0m\u001b[1;33m[\u001b[0m\u001b[0maxis\u001b[0m\u001b[1;33m]\u001b[0m \u001b[1;33m=\u001b[0m \u001b[0mnew_labels\u001b[0m\u001b[1;33m\u001b[0m\u001b[0m\n",
      "\u001b[1;31mValueError\u001b[0m: Length mismatch: Expected axis has 8 elements, new values have 9 elements"
     ]
    }
   ],
   "source": [
    "Number_of_Data_Sets = 9\n",
    "Truss_Level = 102\n",
    "a=[0]*Number_of_Data_Sets\n",
    "a1 =['']*Number_of_Data_Sets\n",
    "for i in range(1,Number_of_Data_Sets+1):\n",
    "    Data_Set = i\n",
    "    df = pd.read_csv('C:\\\\Users\\\\Reily\\\\Desktop\\\\Beeyond Data\\\\data_set_'+str(Data_Set)+'.csv')\n",
    "    df = df.fillna(0)\n",
    "    df.columns = [c.replace(' ', '_') for c in df.columns]\n",
    "\n",
    "    #make a unrefrenced copy of our data frame\n",
    "    df1 = copy.deepcopy(df)\n",
    "\n",
    "    #reduce data by truss level\n",
    "    df2 = df1.loc[(df1.Truss == Truss_Level)]\n",
    "\n",
    "    #group data by device\n",
    "    dfGroupByDevice = df2.groupby(df2.Device).sum()\n",
    "\n",
    "    #normalize the setting flowers per device based on total flowers per device\n",
    "\n",
    "    dfGroupByDevice.Setting = dfGroupByDevice.Setting.div(dfGroupByDevice.Total_flowers)\n",
    "    dfGroupByDevice.Setting = 100*dfGroupByDevice.Setting\n",
    "    dfGroupByDevice.Broken_Sets = dfGroupByDevice.Broken_Sets.div(dfGroupByDevice.Total_flowers)\n",
    "    dfGroupByDevice.Broken_Sets = 100*dfGroupByDevice.Broken_Sets\n",
    "\n",
    "    #making data frame of device and percent setting\n",
    "    dfGroupByDevice = dfGroupByDevice[['Setting','Broken_Sets']]\n",
    "    #dfGroupByDevice = dfGroupByDevice.sum(axis=1)\n",
    "    dfGroupByDevice.columns = ['% Setting + % Broken_Sets Day ' + str(Data_Set)]\n",
    "    a[i-1]= dfGroupByDevice\n",
    "    \n",
    "bigFrame = pd.concat(a, axis=1)\n",
    "for i in range(1,Number_of_Data_Sets+1):\n",
    "    a1[i-1] = '% Setting + % Broken_Sets Day ' + str(i)\n",
    "bigFrame.columns = a1\n",
    "bigFrame\n"
   ]
  },
  {
   "cell_type": "code",
   "execution_count": null,
   "metadata": {
    "collapsed": true
   },
   "outputs": [],
   "source": []
  },
  {
   "cell_type": "code",
   "execution_count": 44,
   "metadata": {
    "collapsed": false
   },
   "outputs": [
    {
     "data": {
      "image/png": "[encoded data removed]",
      "text/plain": [
       "<matplotlib.figure.Figure at 0x706805b668>"
      ]
     },
     "metadata": {},
     "output_type": "display_data"
    }
   ],
   "source": [
    "def plotData(day):\n",
    "    plt.xlabel('Treatment', fontsize = 14)\n",
    "    plt.ylabel('% Set', fontsize = 14)\n",
    "    plt.title('% Setting Day ' + str(int (day)),fontsize = 18)\n",
    "    plt.grid(False)\n",
    "    plt.ylim([0,100])\n",
    "    bigFrame['% Setting + % Broken_Sets Day ' + str(int (day))].plot(kind='bar',)\n",
    "\n",
    "timeSlider = widg.FloatSlider(description='Time', min=1, max=Number_of_Data_Sets, step=1)\n",
    "\n",
    "widg.interact(plotData,\n",
    "            day=timeSlider)"
   ]
  },
  {
   "cell_type": "code",
   "execution_count": null,
   "metadata": {
    "collapsed": true
   },
   "outputs": [],
   "source": []
  }
 ],
 "metadata": {
  "kernelspec": {
   "display_name": "Python 3",
   "language": "python",
   "name": "python3"
  },
  "language_info": {
   "codemirror_mode": {
    "name": "ipython",
    "version": 3
   },
   "file_extension": ".py",
   "mimetype": "text/x-python",
   "name": "python",
   "nbconvert_exporter": "python",
   "pygments_lexer": "ipython3",
   "version": "3.5.1"
  }
 },
 "nbformat": 4,
 "nbformat_minor": 0
}
