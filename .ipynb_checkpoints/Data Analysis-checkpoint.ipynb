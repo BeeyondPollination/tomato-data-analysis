{
 "cells": [
  {
   "cell_type": "code",
   "execution_count": 1,
   "metadata": {
    "collapsed": true
   },
   "outputs": [],
   "source": [
    "%matplotlib inline\n",
    "import pandas as pd\n",
    "import numpy as np\n",
    "import matplotlib.pyplot as plt\n",
    "import seaborn as sns\n",
    "import ipywidgets as widg\n",
    "import copy"
   ]
  },
  {
   "cell_type": "code",
   "execution_count": 2,
   "metadata": {
    "collapsed": false
   },
   "outputs": [
    {
     "data": {
      "text/html": [
       "<div>\n",
       "<table border=\"1\" class=\"dataframe\">\n",
       "  <thead>\n",
       "    <tr style=\"text-align: right;\">\n",
       "      <th></th>\n",
       "      <th>% Setting Day 1</th>\n",
       "      <th>% Setting Day 2</th>\n",
       "      <th>% Setting Day 3</th>\n",
       "      <th>% Setting Day 4</th>\n",
       "      <th>% Setting Day 5</th>\n",
       "      <th>% Setting Day 6</th>\n",
       "      <th>% Setting Day 7</th>\n",
       "    </tr>\n",
       "    <tr>\n",
       "      <th>Device</th>\n",
       "      <th></th>\n",
       "      <th></th>\n",
       "      <th></th>\n",
       "      <th></th>\n",
       "      <th></th>\n",
       "      <th></th>\n",
       "      <th></th>\n",
       "    </tr>\n",
       "  </thead>\n",
       "  <tbody>\n",
       "    <tr>\n",
       "      <th>A</th>\n",
       "      <td>0</td>\n",
       "      <td>0</td>\n",
       "      <td>0</td>\n",
       "      <td>4.060914</td>\n",
       "      <td>17.766497</td>\n",
       "      <td>20.370370</td>\n",
       "      <td>31.400966</td>\n",
       "    </tr>\n",
       "    <tr>\n",
       "      <th>B</th>\n",
       "      <td>0</td>\n",
       "      <td>0</td>\n",
       "      <td>0</td>\n",
       "      <td>3.743316</td>\n",
       "      <td>16.384181</td>\n",
       "      <td>23.529412</td>\n",
       "      <td>33.516484</td>\n",
       "    </tr>\n",
       "    <tr>\n",
       "      <th>C</th>\n",
       "      <td>0</td>\n",
       "      <td>0</td>\n",
       "      <td>0</td>\n",
       "      <td>2.790698</td>\n",
       "      <td>20.642202</td>\n",
       "      <td>23.684211</td>\n",
       "      <td>37.719298</td>\n",
       "    </tr>\n",
       "    <tr>\n",
       "      <th>E</th>\n",
       "      <td>0</td>\n",
       "      <td>0</td>\n",
       "      <td>0</td>\n",
       "      <td>0.000000</td>\n",
       "      <td>5.691057</td>\n",
       "      <td>7.438017</td>\n",
       "      <td>10.655738</td>\n",
       "    </tr>\n",
       "    <tr>\n",
       "      <th>F</th>\n",
       "      <td>0</td>\n",
       "      <td>0</td>\n",
       "      <td>0</td>\n",
       "      <td>3.243243</td>\n",
       "      <td>18.461538</td>\n",
       "      <td>26.470588</td>\n",
       "      <td>31.914894</td>\n",
       "    </tr>\n",
       "  </tbody>\n",
       "</table>\n",
       "</div>"
      ],
      "text/plain": [
       "        % Setting Day 1  % Setting Day 2  % Setting Day 3  % Setting Day 4  \\\n",
       "Device                                                                       \n",
       "A                     0                0                0         4.060914   \n",
       "B                     0                0                0         3.743316   \n",
       "C                     0                0                0         2.790698   \n",
       "E                     0                0                0         0.000000   \n",
       "F                     0                0                0         3.243243   \n",
       "\n",
       "        % Setting Day 5  % Setting Day 6  % Setting Day 7  \n",
       "Device                                                     \n",
       "A             17.766497        20.370370        31.400966  \n",
       "B             16.384181        23.529412        33.516484  \n",
       "C             20.642202        23.684211        37.719298  \n",
       "E              5.691057         7.438017        10.655738  \n",
       "F             18.461538        26.470588        31.914894  "
      ]
     },
     "execution_count": 2,
     "metadata": {},
     "output_type": "execute_result"
    }
   ],
   "source": [
    "Number_of_Data_Sets = 7\n",
    "Truss_Level = 101\n",
    "a=[0]*Number_of_Data_Sets\n",
    "\n",
    "for i in range(1,Number_of_Data_Sets+1):\n",
    "    Data_Set = i\n",
    "    df = pd.read_csv('C:\\\\Users\\\\Reily\\\\Desktop\\\\Beeyond Data\\\\data_set_'+str(Data_Set)+'.csv')\n",
    "    df = df.fillna(0)\n",
    "    df.columns = [c.replace(' ', '_') for c in df.columns]\n",
    "\n",
    "    #make a unrefrenced copy of our data frame\n",
    "    df1 = copy.deepcopy(df)\n",
    "\n",
    "    #reduce data by truss level\n",
    "    df2 = df1.loc[(df1.Truss == Truss_Level)]\n",
    "\n",
    "    #group data by device\n",
    "    dfGroupByDevice = df2.groupby(df2.Device).sum()\n",
    "\n",
    "    #normalize the setting flowers per device based on total flowers per device\n",
    "\n",
    "    dfGroupByDevice.Setting = dfGroupByDevice.Setting.div(dfGroupByDevice.Total_flowers)\n",
    "    dfGroupByDevice.Setting = 100*dfGroupByDevice.Setting\n",
    "\n",
    "    #making data frame of device and percent setting\n",
    "    dfGroupByDevice = dfGroupByDevice[['Setting']]\n",
    "    dfGroupByDevice\n",
    "    dfGroupByDevice.columns = ['% Setting Day ' + str(i)] \n",
    "    a[i-1]= dfGroupByDevice\n",
    "    \n",
    "bigFrame = pd.concat(a, axis=1)\n",
    "bigFrame\n",
    "\n"
   ]
  },
  {
   "cell_type": "code",
   "execution_count": 3,
   "metadata": {
    "collapsed": false
   },
   "outputs": [
    {
     "data": {
      "text/plain": [
       "<function __main__.plotData>"
      ]
     },
     "execution_count": 3,
     "metadata": {},
     "output_type": "execute_result"
    },
    {
     "data": {
      "image/png": "[encoded data removed]",
      "text/plain": [
       "<matplotlib.figure.Figure at 0x24383a0cf8>"
      ]
     },
     "metadata": {},
     "output_type": "display_data"
    }
   ],
   "source": [
    "def plotData(day):\n",
    "    plt.xlabel('Treatment', fontsize = 14)\n",
    "    plt.ylabel('% Set', fontsize = 14)\n",
    "    plt.title('% Setting Day ' + str(int (day)),fontsize = 18)\n",
    "    plt.grid(False)\n",
    "    plt.ylim([0,100])\n",
    "    bigFrame['% Setting Day ' + str(int (day))].plot(kind='bar',)\n",
    "\n",
    "timeSlider = widg.FloatSlider(description='Time', min=1, max=Number_of_Data_Sets, step=1)\n",
    "\n",
    "widg.interact(plotData,\n",
    "            day=timeSlider)"
   ]
  },
  {
   "cell_type": "code",
   "execution_count": 9,
   "metadata": {
    "collapsed": false
   },
   "outputs": [
    {
     "data": {
      "text/plain": [
       "Index(['% Setting Day 1', '% Setting Day 2', '% Setting Day 3',\n",
       "       '% Setting Day 4', '% Setting Day 5', '% Setting Day 6',\n",
       "       '% Setting Day 7'],\n",
       "      dtype='object')"
      ]
     },
     "execution_count": 9,
     "metadata": {},
     "output_type": "execute_result"
    }
   ],
   "source": [
    "bigFrame.columns"
   ]
  },
  {
   "cell_type": "code",
   "execution_count": 62,
   "metadata": {
    "collapsed": false
   },
   "outputs": [
    {
     "data": {
      "text/html": [
       "<div>\n",
       "<table border=\"1\" class=\"dataframe\">\n",
       "  <thead>\n",
       "    <tr style=\"text-align: right;\">\n",
       "      <th></th>\n",
       "      <th>% Delta Setting Day 1 &amp; 2</th>\n",
       "      <th>% Delta Setting Day 2 &amp; 3</th>\n",
       "      <th>% Delta Setting Day 3 &amp; 4</th>\n",
       "      <th>% Delta Setting Day 4 &amp; 5</th>\n",
       "      <th>% Delta Setting Day 5 &amp; 6</th>\n",
       "      <th>% Delta Setting Day 6 &amp; 7</th>\n",
       "    </tr>\n",
       "    <tr>\n",
       "      <th>Device</th>\n",
       "      <th></th>\n",
       "      <th></th>\n",
       "      <th></th>\n",
       "      <th></th>\n",
       "      <th></th>\n",
       "      <th></th>\n",
       "    </tr>\n",
       "  </thead>\n",
       "  <tbody>\n",
       "    <tr>\n",
       "      <th>A</th>\n",
       "      <td>0</td>\n",
       "      <td>0</td>\n",
       "      <td>4.060914</td>\n",
       "      <td>13.705584</td>\n",
       "      <td>2.603873</td>\n",
       "      <td>11.030596</td>\n",
       "    </tr>\n",
       "    <tr>\n",
       "      <th>B</th>\n",
       "      <td>0</td>\n",
       "      <td>0</td>\n",
       "      <td>3.743316</td>\n",
       "      <td>12.640865</td>\n",
       "      <td>7.145231</td>\n",
       "      <td>9.987072</td>\n",
       "    </tr>\n",
       "    <tr>\n",
       "      <th>C</th>\n",
       "      <td>0</td>\n",
       "      <td>0</td>\n",
       "      <td>2.790698</td>\n",
       "      <td>17.851504</td>\n",
       "      <td>3.042009</td>\n",
       "      <td>14.035088</td>\n",
       "    </tr>\n",
       "    <tr>\n",
       "      <th>E</th>\n",
       "      <td>0</td>\n",
       "      <td>0</td>\n",
       "      <td>0.000000</td>\n",
       "      <td>5.691057</td>\n",
       "      <td>1.746960</td>\n",
       "      <td>3.217721</td>\n",
       "    </tr>\n",
       "    <tr>\n",
       "      <th>F</th>\n",
       "      <td>0</td>\n",
       "      <td>0</td>\n",
       "      <td>3.243243</td>\n",
       "      <td>15.218295</td>\n",
       "      <td>8.009050</td>\n",
       "      <td>5.444305</td>\n",
       "    </tr>\n",
       "  </tbody>\n",
       "</table>\n",
       "</div>"
      ],
      "text/plain": [
       "        % Delta Setting Day 1 & 2  % Delta Setting Day 2 & 3  \\\n",
       "Device                                                         \n",
       "A                               0                          0   \n",
       "B                               0                          0   \n",
       "C                               0                          0   \n",
       "E                               0                          0   \n",
       "F                               0                          0   \n",
       "\n",
       "        % Delta Setting Day 3 & 4  % Delta Setting Day 4 & 5  \\\n",
       "Device                                                         \n",
       "A                        4.060914                  13.705584   \n",
       "B                        3.743316                  12.640865   \n",
       "C                        2.790698                  17.851504   \n",
       "E                        0.000000                   5.691057   \n",
       "F                        3.243243                  15.218295   \n",
       "\n",
       "        % Delta Setting Day 5 & 6  % Delta Setting Day 6 & 7  \n",
       "Device                                                        \n",
       "A                        2.603873                  11.030596  \n",
       "B                        7.145231                   9.987072  \n",
       "C                        3.042009                  14.035088  \n",
       "E                        1.746960                   3.217721  \n",
       "F                        8.009050                   5.444305  "
      ]
     },
     "execution_count": 62,
     "metadata": {},
     "output_type": "execute_result"
    }
   ],
   "source": [
    "a1=[0]*(Number_of_Data_Sets-1)\n",
    "#make a shifted data frame of the previous data\n",
    "shiftedBigFrame = bigFrame.shift(periods=-1,axis=1).fillna(0)\n",
    "#subtract the big frame from the shifted\n",
    "deltaBigFrame=shiftedBigFrame.subtract(bigFrame)\n",
    "\n",
    "#delet last colomn because it will go negitive\n",
    "del deltaBigFrame['% Setting Day ' + str(Number_of_Data_Sets)]\n",
    "\n",
    "#rename headers\n",
    "for i in range(1,Number_of_Data_Sets):\n",
    "    deltaBigFrame.rename(columns={'% Setting Day ' + str(i):'% Delta Setting Day ' + str(i)+' & '+str(i+1)}, inplace=True)\n",
    "    \n",
    "deltaBigFrame"
   ]
  },
  {
   "cell_type": "code",
   "execution_count": null,
   "metadata": {
    "collapsed": true
   },
   "outputs": [],
   "source": []
  }
 ],
 "metadata": {
  "kernelspec": {
   "display_name": "Python 3",
   "language": "python",
   "name": "python3"
  },
  "language_info": {
   "codemirror_mode": {
    "name": "ipython",
    "version": 3
   },
   "file_extension": ".py",
   "mimetype": "text/x-python",
   "name": "python",
   "nbconvert_exporter": "python",
   "pygments_lexer": "ipython3",
   "version": "3.5.1"
  }
 },
 "nbformat": 4,
 "nbformat_minor": 0
}
