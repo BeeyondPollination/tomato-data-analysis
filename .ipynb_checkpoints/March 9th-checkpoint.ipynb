{
 "cells": [
  {
   "cell_type": "code",
   "execution_count": 1,
   "metadata": {
    "collapsed": true
   },
   "outputs": [],
   "source": [
    "%matplotlib inline\n",
    "import pandas as pd\n",
    "import numpy as np\n",
    "import matplotlib.pyplot as plt\n",
    "import copy"
   ]
  },
  {
   "cell_type": "code",
   "execution_count": 32,
   "metadata": {
    "collapsed": false
   },
   "outputs": [],
   "source": [
    "Data_Set = 4\n",
    "Blocks = ['A','B','C','E','F']\n",
    "Truss_Level = 201\n",
    "i=4\n",
    "\n",
    "df = pd.read_csv('C:\\\\Users\\\\Reily\\\\Desktop\\\\LearnPY\\\\data_set_'+str(Data_Set)+'.csv')\n",
    "df = df.fillna(0)\n",
    "df.columns = [c.replace(' ', '_') for c in df.columns]\n",
    "\n",
    "#make a unrefrenced copy of our data frame\n",
    "df1 = copy.deepcopy(df)\n",
    "\n",
    "#normalize the data based on total flowers\n",
    "#must be a better way to do this...\n",
    "\n",
    "#df1.Budding = df1.Budding.div(df1.Total_flowers)\n",
    "#df1.Transition_B_to_O = df1.Transition_B_to_O.div(df1.Total_flowers)\n",
    "#df1.Open = df1.Open.div(df1.Total_flowers)\n",
    "#df1.Closed = df1.Closed.div(df1.Total_flowers)\n",
    "\n",
    "df1.Setting = df1.Setting.div(df1.Total_flowers)\n",
    "df1.Setting = 100*df1.Setting\n",
    "\n",
    "#df1"
   ]
  },
  {
   "cell_type": "code",
   "execution_count": 33,
   "metadata": {
    "collapsed": false
   },
   "outputs": [
    {
     "data": {
      "text/html": [
       "<div>\n",
       "<table border=\"1\" class=\"dataframe\">\n",
       "  <thead>\n",
       "    <tr style=\"text-align: right;\">\n",
       "      <th></th>\n",
       "      <th>Device</th>\n",
       "      <th>Plant</th>\n",
       "      <th>Setting</th>\n",
       "    </tr>\n",
       "  </thead>\n",
       "  <tbody>\n",
       "    <tr>\n",
       "      <th>156</th>\n",
       "      <td>F</td>\n",
       "      <td>1</td>\n",
       "      <td>0.000000</td>\n",
       "    </tr>\n",
       "    <tr>\n",
       "      <th>159</th>\n",
       "      <td>F</td>\n",
       "      <td>2</td>\n",
       "      <td>0.000000</td>\n",
       "    </tr>\n",
       "    <tr>\n",
       "      <th>161</th>\n",
       "      <td>F</td>\n",
       "      <td>3</td>\n",
       "      <td>0.000000</td>\n",
       "    </tr>\n",
       "    <tr>\n",
       "      <th>164</th>\n",
       "      <td>F</td>\n",
       "      <td>4</td>\n",
       "      <td>20.000000</td>\n",
       "    </tr>\n",
       "    <tr>\n",
       "      <th>170</th>\n",
       "      <td>F</td>\n",
       "      <td>6</td>\n",
       "      <td>21.428571</td>\n",
       "    </tr>\n",
       "    <tr>\n",
       "      <th>173</th>\n",
       "      <td>F</td>\n",
       "      <td>7</td>\n",
       "      <td>0.000000</td>\n",
       "    </tr>\n",
       "    <tr>\n",
       "      <th>175</th>\n",
       "      <td>F</td>\n",
       "      <td>8</td>\n",
       "      <td>0.000000</td>\n",
       "    </tr>\n",
       "    <tr>\n",
       "      <th>177</th>\n",
       "      <td>F</td>\n",
       "      <td>9</td>\n",
       "      <td>0.000000</td>\n",
       "    </tr>\n",
       "    <tr>\n",
       "      <th>181</th>\n",
       "      <td>F</td>\n",
       "      <td>10</td>\n",
       "      <td>0.000000</td>\n",
       "    </tr>\n",
       "    <tr>\n",
       "      <th>183</th>\n",
       "      <td>F</td>\n",
       "      <td>11</td>\n",
       "      <td>14.285714</td>\n",
       "    </tr>\n",
       "  </tbody>\n",
       "</table>\n",
       "</div>"
      ],
      "text/plain": [
       "    Device  Plant    Setting\n",
       "156      F      1   0.000000\n",
       "159      F      2   0.000000\n",
       "161      F      3   0.000000\n",
       "164      F      4  20.000000\n",
       "170      F      6  21.428571\n",
       "173      F      7   0.000000\n",
       "175      F      8   0.000000\n",
       "177      F      9   0.000000\n",
       "181      F     10   0.000000\n",
       "183      F     11  14.285714"
      ]
     },
     "execution_count": 33,
     "metadata": {},
     "output_type": "execute_result"
    }
   ],
   "source": [
    "df2 = df1.loc[(df1.Device == Blocks[i]) & (df1.Truss == Truss_Level)] \n",
    "df2 = df2[['Device','Plant','Setting']]\n",
    "df2"
   ]
  },
  {
   "cell_type": "code",
   "execution_count": 37,
   "metadata": {
    "collapsed": false
   },
   "outputs": [
    {
     "data": {
      "image/png": "[encoded data removed]",
      "text/plain": [
       "<matplotlib.figure.Figure at 0x250026dbe0>"
      ]
     },
     "metadata": {},
     "output_type": "display_data"
    }
   ],
   "source": [
    "Truss_Level = 101\n",
    "i=0\n",
    "df2 = df1.loc[(df1.Device == Blocks[i]) & (df1.Truss == Truss_Level)] \n",
    "df2 = df2[['Setting']]\n",
    "df2.plot(kind='bar', stacked=True, title = 'Block '+Blocks[i]+' Truss level: ' + str(Truss_Level) );"
   ]
  },
  {
   "cell_type": "code",
   "execution_count": 38,
   "metadata": {
    "collapsed": false
   },
   "outputs": [
    {
     "data": {
      "image/png": "[encoded data removed]",
      "text/plain": [
       "<matplotlib.figure.Figure at 0x250026deb8>"
      ]
     },
     "metadata": {},
     "output_type": "display_data"
    }
   ],
   "source": [
    "Truss_Level = 101\n",
    "i=1\n",
    "df2 = df1.loc[(df1.Device == Blocks[i]) & (df1.Truss == Truss_Level)] \n",
    "df2 = df2[['Setting']]\n",
    "df2.plot(kind='bar', stacked=True, title = 'Block '+Blocks[i]+' Truss level: ' + str(Truss_Level) );"
   ]
  },
  {
   "cell_type": "code",
   "execution_count": 39,
   "metadata": {
    "collapsed": false
   },
   "outputs": [
    {
     "data": {
      "image/png": "[encoded data removed]",
      "text/plain": [
       "<matplotlib.figure.Figure at 0x250022d9e8>"
      ]
     },
     "metadata": {},
     "output_type": "display_data"
    }
   ],
   "source": [
    "Truss_Level = 101\n",
    "i=2\n",
    "df2 = df1.loc[(df1.Device == Blocks[i]) & (df1.Truss == Truss_Level)] \n",
    "df2 = df2[['Setting']]\n",
    "df2.plot(kind='bar', stacked=True, title = 'Block '+Blocks[i]+' Truss level: ' + str(Truss_Level) );"
   ]
  },
  {
   "cell_type": "code",
   "execution_count": null,
   "metadata": {
    "collapsed": true
   },
   "outputs": [],
   "source": [
    "#notes: \n",
    "#need to figure out how to sum the devices then normalize that data\n",
    "#display more than one graph then iterate them in time"
   ]
  }
 ],
 "metadata": {
  "kernelspec": {
   "display_name": "Python 3",
   "language": "python",
   "name": "python3"
  },
  "language_info": {
   "codemirror_mode": {
    "name": "ipython",
    "version": 3
   },
   "file_extension": ".py",
   "mimetype": "text/x-python",
   "name": "python",
   "nbconvert_exporter": "python",
   "pygments_lexer": "ipython3",
   "version": "3.5.1"
  }
 },
 "nbformat": 4,
 "nbformat_minor": 0
}
